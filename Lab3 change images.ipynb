{
 "cells": [
  {
   "cell_type": "markdown",
   "id": "b7473ffe",
   "metadata": {},
   "source": [
    "# Image Generation Lab"
   ]
  },
  {
   "cell_type": "markdown",
   "id": "745b7e3a",
   "metadata": {},
   "source": [
    "### Import modules"
   ]
  },
  {
   "cell_type": "code",
   "execution_count": null,
   "id": "fda468b6-1a56-4be0-9365-4d23316e5db6",
   "metadata": {},
   "outputs": [],
   "source": [
    "import openai\n",
    "import os\n",
    "from IPython.display import Image, display\n",
    "from IPython.core.display import HTML"
   ]
  },
  {
   "cell_type": "markdown",
   "id": "85355c3f",
   "metadata": {},
   "source": [
    "### Set the OpenAI API Key"
   ]
  },
  {
   "cell_type": "code",
   "execution_count": null,
   "id": "80106c97",
   "metadata": {},
   "outputs": [],
   "source": [
    "#openai.api_key = os.getenv(\"OPENAI_API_KEY\")\n",
    "openai.api_key = \"\""
   ]
  },
  {
   "cell_type": "code",
   "execution_count": null,
   "id": "2fce101a",
   "metadata": {},
   "outputs": [],
   "source": [
    "display(Image(filename='./images/lion-cub.png'))"
   ]
  },
  {
   "cell_type": "code",
   "execution_count": null,
   "id": "58ed64c6",
   "metadata": {},
   "outputs": [],
   "source": [
    "response = openai.Image.create_variation(\n",
    "  image=open(\"images/lion-cub.png\", \"rb\"),\n",
    "  size=\"512x512\",\n",
    "  n=3\n",
    ")\n",
    "image_url = response['data'][0]['url']"
   ]
  },
  {
   "cell_type": "markdown",
   "id": "d19c0476",
   "metadata": {},
   "source": [
    "### Display the generated image"
   ]
  },
  {
   "cell_type": "code",
   "execution_count": null,
   "id": "a02a4b46-e2d5-4f6c-9bb4-6f54ee642f9b",
   "metadata": {},
   "outputs": [],
   "source": [
    "image_url = response['data'][0]['url']\n",
    "Image(url= image_url)"
   ]
  },
  {
   "cell_type": "code",
   "execution_count": null,
   "id": "3776903a",
   "metadata": {},
   "outputs": [],
   "source": [
    "image_url = response['data'][1]['url']\n",
    "Image(url= image_url)"
   ]
  },
  {
   "cell_type": "code",
   "execution_count": null,
   "id": "c4da32b3",
   "metadata": {},
   "outputs": [],
   "source": [
    "image_url = response['data'][2]['url']\n",
    "Image(url= image_url)"
   ]
  }
 ],
 "metadata": {
  "kernelspec": {
   "display_name": "Python 3 (ipykernel)",
   "language": "python",
   "name": "python3"
  },
  "language_info": {
   "codemirror_mode": {
    "name": "ipython",
    "version": 3
   },
   "file_extension": ".py",
   "mimetype": "text/x-python",
   "name": "python",
   "nbconvert_exporter": "python",
   "pygments_lexer": "ipython3",
   "version": "3.11.4"
  }
 },
 "nbformat": 4,
 "nbformat_minor": 5
}
