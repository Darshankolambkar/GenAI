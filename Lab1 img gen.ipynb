{
 "cells": [
  {
   "cell_type": "markdown",
   "id": "b7473ffe",
   "metadata": {},
   "source": [
    "# Image Generation Lab"
   ]
  },
  {
   "cell_type": "markdown",
   "id": "745b7e3a",
   "metadata": {},
   "source": [
    "### Import modules"
   ]
  },
  {
   "cell_type": "code",
   "execution_count": null,
   "id": "fda468b6-1a56-4be0-9365-4d23316e5db6",
   "metadata": {},
   "outputs": [],
   "source": [
    "import openai\n",
    "import os\n",
    "from IPython.display import Image, display"
   ]
  },
  {
   "cell_type": "markdown",
   "id": "85355c3f",
   "metadata": {},
   "source": [
    "### Set the OpenAI API Key"
   ]
  },
  {
   "cell_type": "code",
   "execution_count": null,
   "id": "80106c97",
   "metadata": {},
   "outputs": [],
   "source": [
    "#openai.api_key = os.getenv(\"OPENAI_API_KEY\")\n",
    "openai.api_key = \"\""
   ]
  },
  {
   "cell_type": "markdown",
   "id": "780b64b7",
   "metadata": {},
   "source": [
    "### Function to generate image"
   ]
  },
  {
   "cell_type": "code",
   "execution_count": null,
   "id": "9af72823",
   "metadata": {},
   "outputs": [],
   "source": [
    "def generate_image(prompt,size,n):\n",
    "    response=openai.Image.create(\n",
    "      prompt=prompt,\n",
    "      n=n,\n",
    "      size=size\n",
    "    )\n",
    "    return response['data']"
   ]
  },
  {
   "cell_type": "code",
   "execution_count": null,
   "id": "908592b1",
   "metadata": {},
   "outputs": [],
   "source": [
    "response=generate_image(\"Interior photography of a cozy corner in a coffee shop, using natural light.\",\"512x512\",1)"
   ]
  },
  {
   "cell_type": "markdown",
   "id": "d19c0476",
   "metadata": {},
   "source": [
    "### Display the generated image"
   ]
  },
  {
   "cell_type": "code",
   "execution_count": null,
   "id": "11f70874",
   "metadata": {},
   "outputs": [],
   "source": [
    "response[0].url"
   ]
  },
  {
   "cell_type": "code",
   "execution_count": null,
   "id": "dda85bfb-e9b1-4cb5-a89e-1e343d12fbe0",
   "metadata": {},
   "outputs": [],
   "source": [
    "images=[]\n",
    "for i in range(len(response)):\n",
    "    images.append(response[i].url)"
   ]
  },
  {
   "cell_type": "code",
   "execution_count": null,
   "id": "a02a4b46-e2d5-4f6c-9bb4-6f54ee642f9b",
   "metadata": {},
   "outputs": [],
   "source": [
    "Image(url= images[0])"
   ]
  }
 ],
 "metadata": {
  "kernelspec": {
   "display_name": "Python 3 (ipykernel)",
   "language": "python",
   "name": "python3"
  },
  "language_info": {
   "codemirror_mode": {
    "name": "ipython",
    "version": 3
   },
   "file_extension": ".py",
   "mimetype": "text/x-python",
   "name": "python",
   "nbconvert_exporter": "python",
   "pygments_lexer": "ipython3",
   "version": "3.11.4"
  }
 },
 "nbformat": 4,
 "nbformat_minor": 5
}
